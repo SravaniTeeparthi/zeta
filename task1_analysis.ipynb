{
 "cells": [
  {
   "cell_type": "code",
   "execution_count": 1,
   "metadata": {},
   "outputs": [],
   "source": [
    "import pandas as pd \n",
    "\n",
    "customer_df = pd.read_csv(\"CustomerFile 062421 - 070721.csv\")\n",
    "email_df = pd.read_csv(\"Week1_Email_0701_0707.csv\")\n",
    "email_df = email_df.drop_duplicates()"
   ]
  },
  {
   "cell_type": "code",
   "execution_count": 2,
   "metadata": {},
   "outputs": [
    {
     "name": "stdout",
     "output_type": "stream",
     "text": [
      "Email_MD5        object\n",
      "Purchase_Date    object\n",
      "dtype: object\n",
      "EmailMD5          object\n",
      "Delivered_Date    object\n",
      "Creative          object\n",
      "dtype: object\n"
     ]
    }
   ],
   "source": [
    "# datatypes\n",
    "print(customer_df.dtypes)\n",
    "print(email_df.dtypes)"
   ]
  },
  {
   "cell_type": "code",
   "execution_count": 3,
   "metadata": {},
   "outputs": [
    {
     "name": "stdout",
     "output_type": "stream",
     "text": [
      "1502\n",
      "1310\n"
     ]
    }
   ],
   "source": [
    "# Number of Unique emails          \n",
    "\n",
    "print(len(customer_df['Email_MD5'].unique()))\n",
    "print(len(email_df['EmailMD5'].unique()))"
   ]
  },
  {
   "cell_type": "code",
   "execution_count": 4,
   "metadata": {},
   "outputs": [
    {
     "name": "stdout",
     "output_type": "stream",
     "text": [
      "Customer file min    06/24/2021\n",
      "max    07/13/2021\n",
      "Name: Purchase_Date, dtype: object\n",
      "Email file min    7/1/2021\n",
      "max    7/7/2021\n",
      "Name: Delivered_Date, dtype: object\n"
     ]
    }
   ],
   "source": [
    "# min and max of dates\n",
    "print(\"Customer file\", customer_df['Purchase_Date'].agg(['min', 'max']))\n",
    "print(\"Email file\", email_df['Delivered_Date'].agg(['min', 'max']))"
   ]
  },
  {
   "cell_type": "code",
   "execution_count": 5,
   "metadata": {},
   "outputs": [
    {
     "name": "stdout",
     "output_type": "stream",
     "text": [
      "299\n"
     ]
    },
    {
     "data": {
      "text/html": [
       "<div>\n",
       "<style scoped>\n",
       "    .dataframe tbody tr th:only-of-type {\n",
       "        vertical-align: middle;\n",
       "    }\n",
       "\n",
       "    .dataframe tbody tr th {\n",
       "        vertical-align: top;\n",
       "    }\n",
       "\n",
       "    .dataframe thead th {\n",
       "        text-align: right;\n",
       "    }\n",
       "</style>\n",
       "<table border=\"1\" class=\"dataframe\">\n",
       "  <thead>\n",
       "    <tr style=\"text-align: right;\">\n",
       "      <th></th>\n",
       "      <th>Email_MD5</th>\n",
       "      <th>Purchase_Date</th>\n",
       "      <th>EmailMD5</th>\n",
       "      <th>Delivered_Date</th>\n",
       "      <th>Creative</th>\n",
       "    </tr>\n",
       "  </thead>\n",
       "  <tbody>\n",
       "    <tr>\n",
       "      <th>0</th>\n",
       "      <td>a149c0dbf4d95421005a69bd84640486</td>\n",
       "      <td>06/30/2021</td>\n",
       "      <td>a149c0dbf4d95421005a69bd84640486</td>\n",
       "      <td>7/5/2021</td>\n",
       "      <td>Creative2</td>\n",
       "    </tr>\n",
       "    <tr>\n",
       "      <th>1</th>\n",
       "      <td>a149c0dbf4d95421005a69bd84640486</td>\n",
       "      <td>07/02/2021</td>\n",
       "      <td>a149c0dbf4d95421005a69bd84640486</td>\n",
       "      <td>7/5/2021</td>\n",
       "      <td>Creative2</td>\n",
       "    </tr>\n",
       "    <tr>\n",
       "      <th>2</th>\n",
       "      <td>6c2268ff4ba1e95d8a37737f6cc5606b</td>\n",
       "      <td>07/12/2021</td>\n",
       "      <td>6c2268ff4ba1e95d8a37737f6cc5606b</td>\n",
       "      <td>7/6/2021</td>\n",
       "      <td>Creative1</td>\n",
       "    </tr>\n",
       "    <tr>\n",
       "      <th>3</th>\n",
       "      <td>6c2268ff4ba1e95d8a37737f6cc5606b</td>\n",
       "      <td>07/05/2021</td>\n",
       "      <td>6c2268ff4ba1e95d8a37737f6cc5606b</td>\n",
       "      <td>7/6/2021</td>\n",
       "      <td>Creative1</td>\n",
       "    </tr>\n",
       "    <tr>\n",
       "      <th>4</th>\n",
       "      <td>439ff45be1d7ed8c9cb7ba182a2c85ab</td>\n",
       "      <td>06/29/2021</td>\n",
       "      <td>439ff45be1d7ed8c9cb7ba182a2c85ab</td>\n",
       "      <td>7/2/2021</td>\n",
       "      <td>Creative3</td>\n",
       "    </tr>\n",
       "  </tbody>\n",
       "</table>\n",
       "</div>"
      ],
      "text/plain": [
       "                          Email_MD5 Purchase_Date  \\\n",
       "0  a149c0dbf4d95421005a69bd84640486    06/30/2021   \n",
       "1  a149c0dbf4d95421005a69bd84640486    07/02/2021   \n",
       "2  6c2268ff4ba1e95d8a37737f6cc5606b    07/12/2021   \n",
       "3  6c2268ff4ba1e95d8a37737f6cc5606b    07/05/2021   \n",
       "4  439ff45be1d7ed8c9cb7ba182a2c85ab    06/29/2021   \n",
       "\n",
       "                           EmailMD5 Delivered_Date   Creative  \n",
       "0  a149c0dbf4d95421005a69bd84640486       7/5/2021  Creative2  \n",
       "1  a149c0dbf4d95421005a69bd84640486       7/5/2021  Creative2  \n",
       "2  6c2268ff4ba1e95d8a37737f6cc5606b       7/6/2021  Creative1  \n",
       "3  6c2268ff4ba1e95d8a37737f6cc5606b       7/6/2021  Creative1  \n",
       "4  439ff45be1d7ed8c9cb7ba182a2c85ab       7/2/2021  Creative3  "
      ]
     },
     "execution_count": 5,
     "metadata": {},
     "output_type": "execute_result"
    }
   ],
   "source": [
    "# merging two datframes\n",
    "matched_df = pd.merge(customer_df, email_df, left_on='Email_MD5', right_on='EmailMD5')\n",
    "matched_df = matched_df.drop_duplicates()\n",
    "print(len(matched_df))\n",
    "matched_df.head()\n"
   ]
  },
  {
   "cell_type": "code",
   "execution_count": 6,
   "metadata": {},
   "outputs": [
    {
     "data": {
      "text/plain": [
       "0     -5\n",
       "1     -3\n",
       "2      6\n",
       "3     -1\n",
       "4     -3\n",
       "      ..\n",
       "301   -9\n",
       "302    0\n",
       "303   -2\n",
       "304    5\n",
       "305   -7\n",
       "Name: difference, Length: 299, dtype: int64"
      ]
     },
     "execution_count": 6,
     "metadata": {},
     "output_type": "execute_result"
    }
   ],
   "source": [
    "#converting to dateetime to calculate the difference\n",
    "\n",
    "matched_df['Purchase_Date'] = pd.to_datetime(matched_df['Purchase_Date'])\n",
    "matched_df['Delivered_Date'] = pd.to_datetime(matched_df['Delivered_Date'])\n",
    "matched_df['difference'] = (matched_df['Purchase_Date']-matched_df['Delivered_Date']).dt.days\n",
    "matched_df['difference']"
   ]
  },
  {
   "cell_type": "code",
   "execution_count": 7,
   "metadata": {},
   "outputs": [
    {
     "name": "stdout",
     "output_type": "stream",
     "text": [
      "64\n"
     ]
    }
   ],
   "source": [
    "# query the dataframe with difference btween dates 0 to 3\n",
    "print(len(matched_df.query(\"difference <= 3 and difference >= 0\")))\n",
    "\n",
    "# save the results in csv format\n",
    "matched_df.query(\"difference <= 3 and difference >= 0\").to_csv(\"matched.csv\",index=False)\n"
   ]
  },
  {
   "cell_type": "code",
   "execution_count": 8,
   "metadata": {},
   "outputs": [
    {
     "name": "stdout",
     "output_type": "stream",
     "text": [
      "Creative\n",
      "Creative1    19\n",
      "Creative2    18\n",
      "Creative3    27\n",
      "dtype: int64\n",
      "Delivered_Date\n",
      "2021-07-01     9\n",
      "2021-07-02    18\n",
      "2021-07-03     9\n",
      "2021-07-04     1\n",
      "2021-07-05    14\n",
      "2021-07-06     7\n",
      "2021-07-07     6\n",
      "dtype: int64\n"
     ]
    }
   ],
   "source": [
    "# group by and get the number of records for matched_df\n",
    "matched_df = pd.read_csv(\"matched.csv\")\n",
    "print(matched_df.groupby('Creative').size())\n",
    "print(matched_df.groupby('Delivered_Date').size())"
   ]
  },
  {
   "cell_type": "code",
   "execution_count": 9,
   "metadata": {},
   "outputs": [
    {
     "name": "stdout",
     "output_type": "stream",
     "text": [
      "Creative\n",
      "Creative1    437\n",
      "Creative2    437\n",
      "Creative3    436\n",
      "dtype: int64\n",
      "Delivered_Date\n",
      "7/1/2021    188\n",
      "7/2/2021    187\n",
      "7/3/2021    187\n",
      "7/4/2021    187\n",
      "7/5/2021    187\n",
      "7/6/2021    187\n",
      "7/7/2021    187\n",
      "dtype: int64\n"
     ]
    }
   ],
   "source": [
    "# group by and get the number of records for campaign dataframe\n",
    "print(email_df.groupby('Creative').size())\n",
    "print(email_df.groupby('Delivered_Date').size())"
   ]
  },
  {
   "cell_type": "code",
   "execution_count": 10,
   "metadata": {},
   "outputs": [
    {
     "name": "stdout",
     "output_type": "stream",
     "text": [
      "Creative   Delivered_Date\n",
      "Creative1  2021-07-01        6\n",
      "           2021-07-02        8\n",
      "           2021-07-03        1\n",
      "           2021-07-04        1\n",
      "           2021-07-05        2\n",
      "           2021-07-07        1\n",
      "Creative2  2021-07-02        4\n",
      "           2021-07-03        5\n",
      "           2021-07-05        6\n",
      "           2021-07-06        1\n",
      "           2021-07-07        2\n",
      "Creative3  2021-07-01        3\n",
      "           2021-07-02        6\n",
      "           2021-07-03        3\n",
      "           2021-07-05        6\n",
      "           2021-07-06        6\n",
      "           2021-07-07        3\n",
      "dtype: int64\n"
     ]
    }
   ],
   "source": [
    "print(matched_df.groupby(['Creative','Delivered_Date']).size())\n"
   ]
  }
 ],
 "metadata": {
  "kernelspec": {
   "display_name": "base",
   "language": "python",
   "name": "python3"
  },
  "language_info": {
   "codemirror_mode": {
    "name": "ipython",
    "version": 3
   },
   "file_extension": ".py",
   "mimetype": "text/x-python",
   "name": "python",
   "nbconvert_exporter": "python",
   "pygments_lexer": "ipython3",
   "version": "3.9.13"
  },
  "orig_nbformat": 4,
  "vscode": {
   "interpreter": {
    "hash": "74b95cf5b04c42eedfe4c81397e635f3aae30543aaa6a9c6c9592abf4bef195b"
   }
  }
 },
 "nbformat": 4,
 "nbformat_minor": 2
}
